{
 "cells": [
  {
   "cell_type": "code",
   "execution_count": null,
   "metadata": {},
   "outputs": [],
   "source": [
    "# Условие:\n",
    "\n",
    "# Напишите функцию, которая проверяет, существует ли такой ipv4 адрес. В строке должно быть 4 числа, разделённых точкой, входящие в промежуток [0, 255].\n",
    "\n",
    "# Примеры:\n",
    "\n",
    "# check_ip('10.10.10.10') -> True\n",
    "# check_ip('255.255.255.254') -> True\n",
    "# check_ip('192.168.0.0') -> False\n",
    "# check_ip('192.168.0.1') -> True\n",
    "# check_ip('192.168.0.255') -> False"
   ]
  },
  {
   "cell_type": "code",
   "execution_count": null,
   "metadata": {},
   "outputs": [],
   "source": [
    "# Условие:\n",
    "\n",
    "# Вам необходимо сделать красивый и читаемый вывод телефона. На вход идёт строка с номером, а возвращает функция номер в таком формате: (000) 000 0000\n",
    "\n",
    "# Примеры:\n",
    "\n",
    "# format_phone('0000000000') -> '(000) 000 0000'\n",
    "# format_phone('8005553535') -> '(800) 555 3535'\n",
    "# format_phone('1234567890') -> '(123) 456 7890'"
   ]
  },
  {
   "cell_type": "code",
   "execution_count": null,
   "metadata": {},
   "outputs": [],
   "source": [
    "# Условие:\n",
    "\n",
    "# Вам необходимо проверить, в правильном ли порядке расставлены {}, (), [], <>. Вместе с ними может идти и другой текст, поэтому вам стоит заняться фильтрацией строки.\n",
    "\n",
    "# Примеры:\n",
    "\n",
    "# valid_bracket(\"(some_data)\")\n",
    "# valid_bracket(\"() [ww]1{}<>\")\n",
    "# valid_bracket(\"< [ ( { })]>\")\n",
    "# valid_bracket(\"(]\")\n",
    "# valid_bracket(\"([9)]\")"
   ]
  },
  {
   "cell_type": "code",
   "execution_count": null,
   "metadata": {},
   "outputs": [],
   "source": [
    "# Условие:\n",
    "\n",
    "# Вам необходимо проверить, являются ли две строки анаграммами? На вход идут две строки, состоящие из символов английского алфавита.\n",
    "\n",
    "# Примеры:\n",
    "\n",
    "# is_anagram('car', 'tar') -> False\n",
    "# is_anagram('car', 'cart') -> False\n",
    "# is_anagram('anagram', 'nagaram') -> True\n",
    "# is_anagram('beluga', 'begula') -> True"
   ]
  },
  {
   "cell_type": "code",
   "execution_count": null,
   "metadata": {},
   "outputs": [],
   "source": [
    "# Условие:\n",
    "\n",
    "# Ваша задача — написать функцию, которая проверяет, может ли такая переменная существовать. Переменная не может начинаться с цифры, состоит только из символов A-z, цифр и \"_\". Также, она не может быть ни одним из зарегистрированных слов. Их можно взять их keyword.kwlist.\n",
    "\n",
    "# Примеры:\n",
    "\n",
    "# check_var_name('I$Contain0*7') -> False\n",
    "# check_var_name('1wrong') -> False\n",
    "# check_var_name('_oKe') -> True\n",
    "# check_var_name('True') -> False"
   ]
  },
  {
   "cell_type": "code",
   "execution_count": null,
   "metadata": {},
   "outputs": [],
   "source": [
    "# Условие:\n",
    "\n",
    "# Ваша задача — написать функцию, которая превращает строку в hashtag. У них есть парочка правил: никаких символов из string.punctuation быть не должно, пробелы отсутствуют, а длина обязана быть не более 140 символов. Если последнее правило нарушено, выбрасываем ошибку.\n",
    "\n",
    "# Примеры:\n",
    "\n",
    "# gen_hashtag('Python Community') -> #PythonCommunity\n",
    "# gen_hashtag('i like python community!') -> #ILikePythonCommunity\n",
    "# gen_hashtag('Should, I. subscribe? Yes!') -> #ShouldISubscribeYes"
   ]
  }
 ],
 "metadata": {
  "language_info": {
   "name": "python"
  },
  "orig_nbformat": 4
 },
 "nbformat": 4,
 "nbformat_minor": 2
}
