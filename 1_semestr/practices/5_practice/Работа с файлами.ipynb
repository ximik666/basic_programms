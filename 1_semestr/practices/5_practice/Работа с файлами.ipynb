{
 "cells": [
  {
   "cell_type": "markdown",
   "metadata": {},
   "source": [
    "В файле записаны целые числа в столбик. Найти максимальное, среднее, минимальное число и записать в другой файл. "
   ]
  },
  {
   "cell_type": "code",
   "execution_count": null,
   "metadata": {},
   "outputs": [],
   "source": []
  },
  {
   "cell_type": "markdown",
   "metadata": {},
   "source": [
    "В файле записаны в столбик целые числа. Отсортировать их по возрастанию СУММЫ ЦИФР и записать в другой файл. "
   ]
  },
  {
   "cell_type": "code",
   "execution_count": null,
   "metadata": {},
   "outputs": [],
   "source": []
  },
  {
   "cell_type": "markdown",
   "metadata": {},
   "source": [
    "В файл записаны сведения о детях детского сада:\n",
    "\n",
    "**Иванов иван 5 лет**\n",
    "\n",
    "Необходимо записать в текстовый файл самого старшего и самого младшего. "
   ]
  },
  {
   "cell_type": "code",
   "execution_count": null,
   "metadata": {},
   "outputs": [],
   "source": []
  },
  {
   "cell_type": "markdown",
   "metadata": {},
   "source": [
    "Документ «article.txt» содержит следующий текст:\n",
    "\n",
    "Вечерело\n",
    "Жужжали мухи\n",
    "Светил фонарик\n",
    "кипела вода в чайнике\n",
    "Венера зажглась на небе\n",
    "Деревья шумели\n",
    "Тучи разошлись\n",
    "Листва зеленела\n",
    "\n",
    "\n",
    "Требуется реализовать функцию longest_words(file), которая выводит слово, имеющее максимальную длину (или список слов, если таковых несколько).\n",
    " \n",
    "\n"
   ]
  },
  {
   "cell_type": "code",
   "execution_count": null,
   "metadata": {},
   "outputs": [],
   "source": []
  }
 ],
 "metadata": {
  "language_info": {
   "name": "python"
  },
  "orig_nbformat": 4
 },
 "nbformat": 4,
 "nbformat_minor": 2
}
