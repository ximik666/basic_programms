{
 "cells": [
  {
   "cell_type": "code",
   "execution_count": null,
   "metadata": {},
   "outputs": [],
   "source": [
    "# Выведите значение возраста из словаря person.\n",
    "\n",
    "# данный код\n",
    "person = {\"name\": \"Kelly\", \"age\":25, \"city\": \"New york\"}\n",
    "# требуемый вывод:\n",
    "# 25"
   ]
  },
  {
   "cell_type": "code",
   "execution_count": null,
   "metadata": {},
   "outputs": [],
   "source": [
    "# Значениями словаря могут быть и списки. Допишите словарь с ключами BMW, ВАЗ, Tesla и списками из 3х моделей в качестве значений\n",
    "\n",
    "# данный код\n",
    "models_data = {..., \"Tesla\": [\"Modes S\", ...]}\n",
    "print(models_data[\"Tesla\"][0])\n",
    "# требуемый вывод:\n",
    "# Modes S"
   ]
  },
  {
   "cell_type": "code",
   "execution_count": null,
   "metadata": {},
   "outputs": [],
   "source": [
    "# Исправьте ошибки в коде, что бы получить требуемый вывод.\n",
    "\n",
    "# данный код\n",
    "d1 = {\"a\": 100. \"b\": 200. \"c\":300}\n",
    "d2 = {a: 300, b: 200, d:400}\n",
    "print(d1[\"b\"] == d2[\"b\"])\n",
    "# требуемый вывод:\n",
    "# True"
   ]
  },
  {
   "cell_type": "code",
   "execution_count": null,
   "metadata": {},
   "outputs": [],
   "source": [
    "# Даны два словаря: dictionary_1 = {'a': 300, 'b': 400} и dictionary_2 = {'c': 500, 'd': 600}. Объедините их в один при помощи встроенных функций языка Python."
   ]
  },
  {
   "cell_type": "code",
   "execution_count": null,
   "metadata": {},
   "outputs": [],
   "source": [
    "# Сгенерируйте словарь с случайными числовыми значениями. Необходимо их все перемножить и вывести на экран."
   ]
  },
  {
   "cell_type": "code",
   "execution_count": null,
   "metadata": {},
   "outputs": [],
   "source": [
    "# Создайте словарь, в котором ключами будут числа от 1 до 10, а значениями эти же числа, возведенные в куб."
   ]
  },
  {
   "cell_type": "code",
   "execution_count": null,
   "metadata": {},
   "outputs": [],
   "source": [
    "# Даны два списка одинаковой длины. Необходимо создать из них словарь таким образом, чтобы элементы первого списка были ключами, а элементы второго — соответственно значениями нашего словаря."
   ]
  },
  {
   "cell_type": "code",
   "execution_count": null,
   "metadata": {},
   "outputs": [],
   "source": [
    "# Создайте словарь из строки 'программирование' следующим образом: в качестве ключей возьмите буквы строки, а значениями пусть будут числа, соответствующие количеству вхождений данной буквы в строку."
   ]
  }
 ],
 "metadata": {
  "language_info": {
   "name": "python"
  },
  "orig_nbformat": 4
 },
 "nbformat": 4,
 "nbformat_minor": 2
}
