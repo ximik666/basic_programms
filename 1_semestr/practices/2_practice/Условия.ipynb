{
 "cells": [
  {
   "cell_type": "markdown",
   "source": [
    "Материал распространяется на условиях лицензии <a href=\"https://opensource.org/licenses/MS-RL\">Ms-RL</a>. Можно использовать в любых целях, кроме коммерческих, но с обязательным упоминанием автора материала."
   ],
   "metadata": {}
  },
  {
   "cell_type": "markdown",
   "source": [
    "# Урок 2. Основы языка Python"
   ],
   "metadata": {}
  },
  {
   "cell_type": "markdown",
   "source": [
    "## Часть 4. Переменные типа Bool. Условный оператор"
   ],
   "metadata": {}
  },
  {
   "cell_type": "markdown",
   "source": [
    "#### Для управления логикой программы нужен еще один тип переменной - bool. Переменная типа bool имеет всего два значения - True и False."
   ],
   "metadata": {}
  },
  {
   "cell_type": "code",
   "execution_count": 1,
   "source": [
    "is_connected = True\r\n",
    "print(type(is_connected))\r\n",
    "\r\n",
    "a, b = 5, 6\r\n",
    "a_greater_b = a > b\r\n",
    "print(a_greater_b)\r\n",
    "print(type(a_greater_b))\r\n",
    "\r\n",
    "c = bool(1)\r\n",
    "print(c)\r\n",
    "print(type(c))"
   ],
   "outputs": [
    {
     "output_type": "stream",
     "name": "stdout",
     "text": [
      "<class 'bool'>\n",
      "False\n",
      "<class 'bool'>\n",
      "True\n",
      "<class 'bool'>\n"
     ]
    }
   ],
   "metadata": {
    "collapsed": false
   }
  },
  {
   "cell_type": "markdown",
   "source": [
    "#### В простейшем виде условная инструкция в Питоне имеет следующий синтаксис:\n",
    "\n",
    "if Условие:\n",
    "   \n",
    "    Блок инструкций 1\n",
    "\n",
    "else:\n",
    "   \n",
    "    Блок инструкций 2"
   ],
   "metadata": {}
  },
  {
   "cell_type": "markdown",
   "source": [
    "#### Пример \n",
    "Если число делится на 7, напечатать это число и строку \"YES\", в противном случае - \"NO\""
   ],
   "metadata": {}
  },
  {
   "cell_type": "code",
   "execution_count": 2,
   "source": [
    "a = int(input(\"Insert a number: \"))\r\n",
    "if a % 7 == 0:\r\n",
    "    print(a)\r\n",
    "    print(\"YES\")\r\n",
    "else:\r\n",
    "    print(\"NO\")"
   ],
   "outputs": [
    {
     "output_type": "stream",
     "name": "stdout",
     "text": [
      "NO\n"
     ]
    }
   ],
   "metadata": {
    "collapsed": false
   }
  },
  {
   "cell_type": "markdown",
   "source": [
    "#### Если в каждом блоке всего по одной инструкции, можно использовать сокращенный синтаксис:\n",
    "\n",
    "Инструкция 1 if Условие else Инструкция 2"
   ],
   "metadata": {}
  },
  {
   "cell_type": "code",
   "execution_count": 3,
   "source": [
    "has_debts = True\r\n",
    "comission = 0.07 if has_debts else 0.05\r\n",
    "print(comission)"
   ],
   "outputs": [
    {
     "output_type": "stream",
     "name": "stdout",
     "text": [
      "0.07\n"
     ]
    }
   ],
   "metadata": {
    "collapsed": false
   }
  },
  {
   "cell_type": "markdown",
   "source": [
    "#### Пример \n",
    "Написать, что число четное или нечетное"
   ],
   "metadata": {}
  },
  {
   "cell_type": "code",
   "execution_count": 4,
   "source": [
    "a = int(input(\"Insert a number: \"))\r\n",
    "print(str(a) + \" is \" + (\"even\" if a % 2 == 0 else \"odd\"))"
   ],
   "outputs": [
    {
     "output_type": "stream",
     "name": "stdout",
     "text": [
      "4 is even\n"
     ]
    }
   ],
   "metadata": {
    "collapsed": false
   }
  },
  {
   "cell_type": "markdown",
   "source": [
    "#### Условные конструкции могут быть вложенными. \n",
    "\n",
    "if Условие1:\n",
    "    \n",
    "    if Условие2:\n",
    "    \n",
    "        Блок инструкций 1\n",
    "        \n",
    "        ...\n",
    "        \n",
    "    else:\n",
    "    \n",
    "        Блок инструкций 2\n",
    "        \n",
    "else:\n",
    "   \n",
    "    Блок инструкций 3"
   ],
   "metadata": {}
  },
  {
   "cell_type": "markdown",
   "source": [
    "#### Пример\n",
    "Определить, в какой четверти находится точка, по ее координатам *(x, y)*"
   ],
   "metadata": {}
  },
  {
   "cell_type": "code",
   "execution_count": 5,
   "source": [
    "x = int(input(\"Введите x: \"))\r\n",
    "y = int(input(\"Введите y: \"))\r\n",
    "if x > 0:\r\n",
    "    if y > 0:               # x>0, y>0\r\n",
    "        print(\"Первая четверть\")\r\n",
    "    else:                   # x>0, y<0\r\n",
    "        print(\"Четвертая четверть\")\r\n",
    "else:\r\n",
    "    if y > 0:               # x<0, y>0\r\n",
    "        print(\"Вторая четверть\")\r\n",
    "    else:                   # x<0, y<0\r\n",
    "        print(\"Третья четверть\")"
   ],
   "outputs": [
    {
     "output_type": "stream",
     "name": "stdout",
     "text": [
      "Первая четверть\n"
     ]
    }
   ],
   "metadata": {
    "collapsed": false
   }
  },
  {
   "cell_type": "markdown",
   "source": [
    "#### Однако, не стоит злоупотреблять вложением конструкций. Если их слишком много вложенных друг в друга, читаемость кода сильно страдает (\"спагетти-код\") и разобраться в нем сложнее"
   ],
   "metadata": {}
  },
  {
   "cell_type": "markdown",
   "source": [
    "#### Блок *if-elif-else* (каскадная конструкция)\n",
    "if Условие 1:\n",
    "   \n",
    "    Блок инструкций 1\n",
    "\n",
    "elif Условие 2:\n",
    "\n",
    "    Блок инструкций 2\n",
    "    \n",
    "...\n",
    "\n",
    "elif Условие n:\n",
    "\n",
    "    Блок инструкций n\n",
    "    \n",
    "else:\n",
    "   \n",
    "    Блок инструкций n+1"
   ],
   "metadata": {}
  },
  {
   "cell_type": "code",
   "execution_count": 6,
   "source": [
    "#исправьте ошибку\r\n",
    "x = input(\"Введите x: \")\r\n",
    "y = input(\"Введите y: \")\r\n",
    "if x > 0 and y > 0:\r\n",
    "    print(\"Первая четверть\")\r\n",
    "elif x > 0 and y < 0:\r\n",
    "    print(\"Четвертая четверть\")\r\n",
    "elif y > 0:\r\n",
    "    print(\"Вторая четверть\")\r\n",
    "else:\r\n",
    "    print(\"Третья четверть\")"
   ],
   "outputs": [
    {
     "output_type": "error",
     "ename": "TypeError",
     "evalue": "'>' not supported between instances of 'str' and 'int'",
     "traceback": [
      "\u001b[1;31m---------------------------------------------------------------------------\u001b[0m",
      "\u001b[1;31mTypeError\u001b[0m                                 Traceback (most recent call last)",
      "\u001b[1;32mC:\\Users\\WIN-SE~1\\AppData\\Local\\Temp/ipykernel_18948/374806848.py\u001b[0m in \u001b[0;36m<module>\u001b[1;34m\u001b[0m\n\u001b[0;32m      1\u001b[0m \u001b[0mx\u001b[0m \u001b[1;33m=\u001b[0m \u001b[0minput\u001b[0m\u001b[1;33m(\u001b[0m\u001b[1;34m\"Введите x: \"\u001b[0m\u001b[1;33m)\u001b[0m\u001b[1;33m\u001b[0m\u001b[1;33m\u001b[0m\u001b[0m\n\u001b[0;32m      2\u001b[0m \u001b[0my\u001b[0m \u001b[1;33m=\u001b[0m \u001b[0minput\u001b[0m\u001b[1;33m(\u001b[0m\u001b[1;34m\"Введите y: \"\u001b[0m\u001b[1;33m)\u001b[0m\u001b[1;33m\u001b[0m\u001b[1;33m\u001b[0m\u001b[0m\n\u001b[1;32m----> 3\u001b[1;33m \u001b[1;32mif\u001b[0m \u001b[0mx\u001b[0m \u001b[1;33m>\u001b[0m \u001b[1;36m0\u001b[0m \u001b[1;32mand\u001b[0m \u001b[0my\u001b[0m \u001b[1;33m>\u001b[0m \u001b[1;36m0\u001b[0m\u001b[1;33m:\u001b[0m\u001b[1;33m\u001b[0m\u001b[1;33m\u001b[0m\u001b[0m\n\u001b[0m\u001b[0;32m      4\u001b[0m     \u001b[0mprint\u001b[0m\u001b[1;33m(\u001b[0m\u001b[1;34m\"Первая четверть\"\u001b[0m\u001b[1;33m)\u001b[0m\u001b[1;33m\u001b[0m\u001b[1;33m\u001b[0m\u001b[0m\n\u001b[0;32m      5\u001b[0m \u001b[1;32melif\u001b[0m \u001b[0mx\u001b[0m \u001b[1;33m>\u001b[0m \u001b[1;36m0\u001b[0m \u001b[1;32mand\u001b[0m \u001b[0my\u001b[0m \u001b[1;33m<\u001b[0m \u001b[1;36m0\u001b[0m\u001b[1;33m:\u001b[0m\u001b[1;33m\u001b[0m\u001b[1;33m\u001b[0m\u001b[0m\n",
      "\u001b[1;31mTypeError\u001b[0m: '>' not supported between instances of 'str' and 'int'"
     ]
    }
   ],
   "metadata": {
    "collapsed": false
   }
  },
  {
   "cell_type": "markdown",
   "source": [
    "#### Задача [\"Високосный год\"](http://informatics.mccme.ru/mod/statements/view.php?id=8448#1)\n",
    "Требуется определить, является ли данный год високосным. (Напомним, что год является високосным, если его номер кратен 4, но не кратен 100, а также если он кратен 400.)\n",
    "\n",
    "Входные данные:\n",
    "Вводится единственное число - номер года (целое, положительное, не превышает 30000).\n",
    "\n",
    "Выходные данные:\n",
    "Требуется вывести слово YES, если год является високосным и NO - в противном случае.\n",
    "#### Решение\n",
    "Пока не используем функции и обработку исключений"
   ],
   "metadata": {}
  }
 ],
 "metadata": {
  "kernelspec": {
   "name": "python3",
   "display_name": "Python 3.7.9 64-bit"
  },
  "language_info": {
   "name": "python",
   "version": "3.7.9",
   "mimetype": "text/x-python",
   "codemirror_mode": {
    "name": "ipython",
    "version": 3
   },
   "pygments_lexer": "ipython3",
   "nbconvert_exporter": "python",
   "file_extension": ".py"
  },
  "name": "seminar2_part1_variables_strings_numbers.ipynb",
  "interpreter": {
   "hash": "4374f376cf7b56d142b84a5996ba4773e81b4b07d00579f62d563620ad3591d6"
  }
 },
 "nbformat": 4,
 "nbformat_minor": 2
}