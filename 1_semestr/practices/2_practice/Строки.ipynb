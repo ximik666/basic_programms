{
 "cells": [
  {
   "cell_type": "markdown",
   "source": [
    "\r\n",
    "Материал распространяется на условиях лицензии <a href=\"https://opensource.org/licenses/MS-RL\">Ms-RL</a>. Можно использовать в любых целях, кроме коммерческих, но с обязательным упоминанием автора материала."
   ],
   "metadata": {}
  },
  {
   "cell_type": "markdown",
   "source": [
    "# Урок 2. Основы языка Python"
   ],
   "metadata": {}
  },
  {
   "cell_type": "markdown",
   "source": [
    "## Часть 3. Строки"
   ],
   "metadata": {}
  },
  {
   "cell_type": "markdown",
   "source": [
    "#### Строки выделяются одинарными или двойными кавычками"
   ],
   "metadata": {}
  },
  {
   "cell_type": "code",
   "execution_count": null,
   "source": [
    "my_string = \"This is a double-quoted string.\"\r\n",
    "my_string = 'This is a single-quoted string.'"
   ],
   "outputs": [],
   "metadata": {
    "collapsed": true
   }
  },
  {
   "cell_type": "code",
   "execution_count": null,
   "source": [
    "quote = \"Linus Torvalds once said, 'Any program is only as good as it is useful.'\""
   ],
   "outputs": [],
   "metadata": {
    "collapsed": true
   }
  },
  {
   "cell_type": "code",
   "execution_count": null,
   "source": [
    "first_name = 'eric'\r\n",
    "\r\n",
    "print(first_name)\r\n",
    "print(first_name.title())"
   ],
   "outputs": [],
   "metadata": {
    "collapsed": false
   }
  },
  {
   "cell_type": "markdown",
   "source": [
    "#### Разные регистры"
   ],
   "metadata": {}
  },
  {
   "cell_type": "code",
   "execution_count": null,
   "source": [
    "first_name = 'eric'\r\n",
    "\r\n",
    "print(first_name)\r\n",
    "print(first_name.title())\r\n",
    "print(first_name.upper())\r\n",
    "\r\n",
    "first_name = 'Eric'\r\n",
    "print(first_name.lower())"
   ],
   "outputs": [],
   "metadata": {
    "collapsed": false
   }
  },
  {
   "cell_type": "markdown",
   "source": [
    "*upper()*, *lower()* и *title()* - это методы. \n",
    "\n",
    "Синтаксис: variable_name.action()\n",
    "\n",
    "*action* - это название метода, который можно применить к переменной *variable_name*. В скобках можно указывать другие переменные (аргументы) метода. "
   ],
   "metadata": {}
  },
  {
   "cell_type": "markdown",
   "source": [
    "#### Конкатенация (\"склеивание\") строк"
   ],
   "metadata": {}
  },
  {
   "cell_type": "code",
   "execution_count": null,
   "source": [
    "first_name = 'ada'\r\n",
    "last_name = 'lovelace'\r\n",
    "\r\n",
    "full_name = first_name + ' ' + last_name\r\n",
    "\r\n",
    "print(full_name.title())"
   ],
   "outputs": [],
   "metadata": {
    "collapsed": false
   }
  },
  {
   "cell_type": "code",
   "execution_count": null,
   "source": [
    "first_name = 'ada'\r\n",
    "last_name = 'lovelace'\r\n",
    "full_name = first_name + ' ' + last_name\r\n",
    "\r\n",
    "message = full_name.title() + ' ' + \"was considered the world's first computer programmer.\"\r\n",
    "\r\n",
    "print(message)"
   ],
   "outputs": [],
   "metadata": {
    "collapsed": false
   }
  },
  {
   "cell_type": "markdown",
   "source": [
    "#### Пробельные символы (whitespaces)\n",
    " - \" \" - пробел (очевидно)\n",
    " - \"\\t\" - табуляция\n",
    " - \"\\n\" - перенос строки"
   ],
   "metadata": {}
  },
  {
   "cell_type": "code",
   "execution_count": null,
   "source": [
    "print(\"Hello everyone!\")"
   ],
   "outputs": [],
   "metadata": {
    "collapsed": false
   }
  },
  {
   "cell_type": "code",
   "execution_count": null,
   "source": [
    "print(\"\\tHello everyone!\")"
   ],
   "outputs": [],
   "metadata": {
    "collapsed": false
   }
  },
  {
   "cell_type": "code",
   "execution_count": null,
   "source": [
    "print(\"Hello \\teveryone!\")"
   ],
   "outputs": [],
   "metadata": {
    "collapsed": false
   }
  },
  {
   "cell_type": "code",
   "execution_count": null,
   "source": [
    "print(\"Hello everyone!\")"
   ],
   "outputs": [],
   "metadata": {
    "collapsed": false
   }
  },
  {
   "cell_type": "code",
   "execution_count": null,
   "source": [
    "print(\"Hello!\")\r\n",
    "print(\"\\nHello everyone!\")"
   ],
   "outputs": [],
   "metadata": {
    "collapsed": false
   }
  },
  {
   "cell_type": "code",
   "execution_count": null,
   "source": [
    "print(\"Hello \\neveryone!\")"
   ],
   "outputs": [],
   "metadata": {
    "collapsed": false
   }
  },
  {
   "cell_type": "code",
   "execution_count": null,
   "source": [
    "print(\"\\n\\n\\nHello everyone!\")"
   ],
   "outputs": [],
   "metadata": {
    "collapsed": false
   }
  },
  {
   "cell_type": "markdown",
   "source": [
    "#### Удаление лишних пробельных символов\n",
    "\n",
    "Часто при заполнении веб-форм появляются лишние пробелы слева и/или справа. От них можно избавиться"
   ],
   "metadata": {}
  },
  {
   "cell_type": "code",
   "execution_count": null,
   "source": [
    "name = ' eric '\r\n",
    "\r\n",
    "print(name.lstrip())\r\n",
    "print(name.rstrip())\r\n",
    "print(name.strip())"
   ],
   "outputs": [],
   "metadata": {
    "collapsed": false
   }
  },
  {
   "cell_type": "markdown",
   "source": [
    "Так нагляднее:"
   ],
   "metadata": {}
  },
  {
   "cell_type": "code",
   "execution_count": null,
   "source": [
    "name = ' eric '\r\n",
    "\r\n",
    "print('-' + name.lstrip() + '-')\r\n",
    "print('-' + name.rstrip() + '-')\r\n",
    "print('-' + name.strip() + '-')"
   ],
   "outputs": [],
   "metadata": {
    "collapsed": false
   }
  },
  {
   "cell_type": "markdown",
   "source": [
    "Избавляться можно не только от пробелов. Здесь ',' - аргумент методов *lstrip()*, *rstrip()* и *strip()*"
   ],
   "metadata": {}
  },
  {
   "cell_type": "code",
   "execution_count": null,
   "source": [
    "name = ',,eric,,'\r\n",
    "\r\n",
    "print('-' + name.lstrip(',') + '-')\r\n",
    "print('-' + name.rstrip(',') + '-')\r\n",
    "print('-' + name.strip(',') + '-')"
   ],
   "outputs": [],
   "metadata": {
    "collapsed": false
   }
  },
  {
   "cell_type": "markdown",
   "source": [
    "### Методы для работы со строками\n",
    "Обзор на <a href=\"http://pythonworld.ru/tipy-dannyx-v-python/stroki-funkcii-i-metody-strok.html\">Pythonworld</a>\n",
    "\n",
    "Все методы строк:"
   ],
   "metadata": {}
  },
  {
   "cell_type": "code",
   "execution_count": null,
   "source": [
    "dir(str)"
   ],
   "outputs": [],
   "metadata": {
    "collapsed": false
   }
  },
  {
   "cell_type": "markdown",
   "source": [
    "**find** - поиск подстроки в строке. Возвращает номер первого вхождения или -1"
   ],
   "metadata": {}
  },
  {
   "cell_type": "code",
   "execution_count": null,
   "source": [
    "\"we bought a new house and we are happy\".find(\"we\")"
   ],
   "outputs": [],
   "metadata": {
    "collapsed": false
   }
  },
  {
   "cell_type": "markdown",
   "source": [
    "**rfind** - поиск подстроки в строке. Возвращает номер последнего вхождения или -1"
   ],
   "metadata": {}
  },
  {
   "cell_type": "code",
   "execution_count": null,
   "source": [
    "\"we bought a new house and we are happy\".rfind(\"we\")"
   ],
   "outputs": [],
   "metadata": {
    "collapsed": false
   }
  },
  {
   "cell_type": "markdown",
   "source": [
    "**index** - поиск подстроки в строке. Возвращает номер первого вхождения или вызывает ValueError"
   ],
   "metadata": {}
  },
  {
   "cell_type": "code",
   "execution_count": null,
   "source": [
    "\"we bought a new house and we are happy\".index(\"we\")"
   ],
   "outputs": [],
   "metadata": {
    "collapsed": false
   }
  },
  {
   "cell_type": "code",
   "execution_count": null,
   "source": [
    "\"we bought a new house and we are happy\".index(\"land\")"
   ],
   "outputs": [],
   "metadata": {
    "collapsed": false
   }
  },
  {
   "cell_type": "markdown",
   "source": [
    "**rindex** - поиск подстроки в строке. Возвращает номер последнего вхождения или вызывает ValueError"
   ],
   "metadata": {}
  },
  {
   "cell_type": "code",
   "execution_count": null,
   "source": [
    "\"we bought a new house and we are happy\".rindex(\"we\")"
   ],
   "outputs": [],
   "metadata": {
    "collapsed": false
   }
  },
  {
   "cell_type": "code",
   "execution_count": null,
   "source": [
    "\"we bought a new house and we are happy\".rindex(\"land\")\r\n"
   ],
   "outputs": [],
   "metadata": {
    "collapsed": false
   }
  },
  {
   "cell_type": "markdown",
   "source": [
    "**replace** - замена по шаблону"
   ],
   "metadata": {}
  },
  {
   "cell_type": "code",
   "execution_count": null,
   "source": [
    "help(str.replace)"
   ],
   "outputs": [],
   "metadata": {
    "collapsed": false
   }
  },
  {
   "cell_type": "code",
   "execution_count": null,
   "source": [
    "\"we bought a new house\".replace(\"house\", \"building\")"
   ],
   "outputs": [],
   "metadata": {
    "collapsed": false
   }
  },
  {
   "cell_type": "code",
   "execution_count": null,
   "source": [
    "\"bla bla bla\".replace(\"bla\", \"wow\", 3)"
   ],
   "outputs": [],
   "metadata": {
    "collapsed": false
   }
  },
  {
   "cell_type": "markdown",
   "source": [
    "**split** - разбиение строки по разделителю"
   ],
   "metadata": {}
  },
  {
   "cell_type": "code",
   "execution_count": null,
   "source": [
    "\"hello#$great#$to#$see#$you\".split(\"#$\")"
   ],
   "outputs": [],
   "metadata": {
    "collapsed": false
   }
  },
  {
   "cell_type": "markdown",
   "source": [
    "- **isdigit** - состоит ли строка из цифр;\n",
    "- **isalpha** - состоит ли строка из букв;\n",
    "- **isalnum** - состоит ли строка из цифр или букв;\n",
    "- **islower** - состоит ли строка из символов в нижнем регистре;\n",
    "- **isupper** - состоит ли строка из символов в верхнем регистре;\n",
    "- **istitle** - начинаются ли слова в строке с заглавной буквы."
   ],
   "metadata": {}
  },
  {
   "cell_type": "markdown",
   "source": [
    "**join** - сборка строки из списка по разделителю, применяется к разделителю"
   ],
   "metadata": {
    "collapsed": true
   }
  },
  {
   "cell_type": "code",
   "execution_count": null,
   "source": [
    "\",\".join([\"Ann\", \"Leo\", \"Tiffany\"])"
   ],
   "outputs": [],
   "metadata": {
    "collapsed": false
   }
  },
  {
   "cell_type": "markdown",
   "source": [
    "**format** - форматирование строки\n",
    "\n",
    "Пример"
   ],
   "metadata": {}
  },
  {
   "cell_type": "code",
   "execution_count": null,
   "source": [
    "# key-value pairs: client_id, (name, age, occupation)\r\n",
    "personal_data = {1: (\"Ann\", 29, \"Artist\"), \r\n",
    "               2: (\"Leo\", 54, \"Programmer\"), \r\n",
    "               3: (\"Tiffany\", 43, \"Shop Assistant\")}\r\n",
    "for (name, age, occupation) in personal_data.values():\r\n",
    "    print(\"{0} (age {1}) is a {2}\".format(name, age, occupation))"
   ],
   "outputs": [],
   "metadata": {
    "collapsed": false
   }
  },
  {
   "cell_type": "markdown",
   "source": [
    "# Задачи для выполнения\r\n",
    "1. Написать программу, которая проверяет является ли введенное слово с клавиатуры палиндромом (слева направа и справа налево выглядит одинаково, например слова мадам). Вывести да или нет.\r\n",
    "2. Удалить из строки все знаки препинания."
   ],
   "metadata": {
    "collapsed": true
   }
  }
 ],
 "metadata": {
  "kernelspec": {
   "name": "python3",
   "display_name": "Python 3.7.9 64-bit"
  },
  "language_info": {
   "name": "python",
   "version": "3.7.9",
   "mimetype": "text/x-python",
   "codemirror_mode": {
    "name": "ipython",
    "version": 3
   },
   "pygments_lexer": "ipython3",
   "nbconvert_exporter": "python",
   "file_extension": ".py"
  },
  "name": "seminar2_part1_variables_strings_numbers.ipynb",
  "interpreter": {
   "hash": "4374f376cf7b56d142b84a5996ba4773e81b4b07d00579f62d563620ad3591d6"
  }
 },
 "nbformat": 4,
 "nbformat_minor": 2
}